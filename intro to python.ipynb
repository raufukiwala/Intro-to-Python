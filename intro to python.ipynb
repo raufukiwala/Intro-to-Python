{
 "cells": [
  {
   "cell_type": "code",
   "execution_count": 1,
   "id": "e56fac16",
   "metadata": {},
   "outputs": [
    {
     "name": "stdout",
     "output_type": "stream",
     "text": [
      "Hello world\n"
     ]
    }
   ],
   "source": [
    "print(\"Hello world\")"
   ]
  },
  {
   "cell_type": "code",
   "execution_count": 2,
   "id": "cdbf2976",
   "metadata": {},
   "outputs": [
    {
     "name": "stdout",
     "output_type": "stream",
     "text": [
      "22\n"
     ]
    }
   ],
   "source": [
    "print(22)"
   ]
  },
  {
   "cell_type": "code",
   "execution_count": 3,
   "id": "136035a3",
   "metadata": {},
   "outputs": [
    {
     "data": {
      "text/plain": [
       "3.0"
      ]
     },
     "execution_count": 3,
     "metadata": {},
     "output_type": "execute_result"
    }
   ],
   "source": [
    "(5 + 4) / 3"
   ]
  },
  {
   "cell_type": "code",
   "execution_count": 4,
   "id": "de67d346",
   "metadata": {},
   "outputs": [],
   "source": [
    "country = 'Malawi'\n",
    "age = 30"
   ]
  },
  {
   "cell_type": "code",
   "execution_count": 5,
   "id": "139e64a0",
   "metadata": {},
   "outputs": [
    {
     "name": "stdout",
     "output_type": "stream",
     "text": [
      "Malawi\n"
     ]
    }
   ],
   "source": [
    "print(country)"
   ]
  },
  {
   "cell_type": "code",
   "execution_count": 6,
   "id": "da36b632",
   "metadata": {},
   "outputs": [
    {
     "name": "stdout",
     "output_type": "stream",
     "text": [
      "30\n"
     ]
    }
   ],
   "source": [
    "print(age)"
   ]
  },
  {
   "cell_type": "code",
   "execution_count": 7,
   "id": "dbc4c619",
   "metadata": {},
   "outputs": [],
   "source": [
    "country = 'Brazil'"
   ]
  },
  {
   "cell_type": "code",
   "execution_count": 8,
   "id": "474a434e",
   "metadata": {},
   "outputs": [
    {
     "name": "stdout",
     "output_type": "stream",
     "text": [
      "Brazil\n"
     ]
    }
   ],
   "source": [
    "print(country)"
   ]
  },
  {
   "cell_type": "code",
   "execution_count": 12,
   "id": "c52b5ddb",
   "metadata": {},
   "outputs": [
    {
     "data": {
      "text/plain": [
       "True"
      ]
     },
     "execution_count": 12,
     "metadata": {},
     "output_type": "execute_result"
    }
   ],
   "source": [
    "10**3 == 1000"
   ]
  },
  {
   "cell_type": "code",
   "execution_count": 14,
   "id": "3696d7e6",
   "metadata": {},
   "outputs": [],
   "source": [
    "## ** is exponential operator"
   ]
  },
  {
   "cell_type": "code",
   "execution_count": 15,
   "id": "c3e8f2c4",
   "metadata": {},
   "outputs": [
    {
     "name": "stdout",
     "output_type": "stream",
     "text": [
      "Brazil\n"
     ]
    }
   ],
   "source": [
    "print(country)"
   ]
  },
  {
   "cell_type": "code",
   "execution_count": 16,
   "id": "2dac1fc6",
   "metadata": {},
   "outputs": [
    {
     "name": "stdout",
     "output_type": "stream",
     "text": [
      "30\n"
     ]
    }
   ],
   "source": [
    "print(age)"
   ]
  },
  {
   "cell_type": "code",
   "execution_count": 18,
   "id": "14d4aeb8",
   "metadata": {},
   "outputs": [
    {
     "data": {
      "text/plain": [
       "False"
      ]
     },
     "execution_count": 18,
     "metadata": {},
     "output_type": "execute_result"
    }
   ],
   "source": [
    "10 * 3 == 40"
   ]
  },
  {
   "cell_type": "code",
   "execution_count": 20,
   "id": "a0e66f26",
   "metadata": {},
   "outputs": [
    {
     "data": {
      "text/plain": [
       "True"
      ]
     },
     "execution_count": 20,
     "metadata": {},
     "output_type": "execute_result"
    }
   ],
   "source": [
    "10 * 3 == age"
   ]
  },
  {
   "cell_type": "code",
   "execution_count": 23,
   "id": "33b1fab9",
   "metadata": {},
   "outputs": [
    {
     "name": "stdout",
     "output_type": "stream",
     "text": [
      "adult\n"
     ]
    }
   ],
   "source": [
    "if age >= 18:\n",
    "    print(\"adult\")\n",
    "else:\n",
    "    print(\"minor\")"
   ]
  },
  {
   "cell_type": "code",
   "execution_count": 25,
   "id": "181f5619",
   "metadata": {
    "scrolled": true
   },
   "outputs": [
    {
     "name": "stdout",
     "output_type": "stream",
     "text": [
      "1\n",
      "2\n",
      "3\n",
      "4\n",
      "5\n"
     ]
    }
   ],
   "source": [
    "for number in [1,2,3,4,5]:\n",
    "    print(number)"
   ]
  },
  {
   "cell_type": "code",
   "execution_count": 26,
   "id": "4dcfea61",
   "metadata": {},
   "outputs": [
    {
     "name": "stdout",
     "output_type": "stream",
     "text": [
      "10\n",
      "24\n",
      "76\n",
      "89\n"
     ]
    }
   ],
   "source": [
    "my_list = [10,24,76,89]\n",
    "\n",
    "for x in my_list:\n",
    "    print(x)\n"
   ]
  },
  {
   "cell_type": "code",
   "execution_count": 51,
   "id": "87c2a03b",
   "metadata": {},
   "outputs": [
    {
     "name": "stdout",
     "output_type": "stream",
     "text": [
      "[3, 6, 9, 12]\n"
     ]
    }
   ],
   "source": [
    "my_list = [3,6,9,12]\n",
    "print(my_list)"
   ]
  },
  {
   "cell_type": "code",
   "execution_count": 52,
   "id": "94ef80e1",
   "metadata": {},
   "outputs": [
    {
     "name": "stdout",
     "output_type": "stream",
     "text": [
      "1.0\n",
      "2.0\n",
      "3.0\n",
      "4.0\n"
     ]
    }
   ],
   "source": [
    "for x in my_list:\n",
    "    print(x/3)"
   ]
  },
  {
   "cell_type": "code",
   "execution_count": 53,
   "id": "a4f687d0",
   "metadata": {},
   "outputs": [
    {
     "name": "stdout",
     "output_type": "stream",
     "text": [
      "[3, 6, 9, 12]\n"
     ]
    }
   ],
   "source": [
    "print(my_list)"
   ]
  },
  {
   "cell_type": "code",
   "execution_count": 54,
   "id": "3fb80526",
   "metadata": {},
   "outputs": [],
   "source": [
    "def is_aldult(age):\n",
    "    if age > 17:\n",
    "        print('adult')\n",
    "    else:\n",
    "        print('minor')\n"
   ]
  },
  {
   "cell_type": "code",
   "execution_count": 55,
   "id": "b31bca52",
   "metadata": {},
   "outputs": [
    {
     "name": "stdout",
     "output_type": "stream",
     "text": [
      "minor\n"
     ]
    }
   ],
   "source": [
    "is_aldult(17)"
   ]
  },
  {
   "cell_type": "code",
   "execution_count": 56,
   "id": "a34454ad",
   "metadata": {},
   "outputs": [
    {
     "name": "stdout",
     "output_type": "stream",
     "text": [
      "adult\n"
     ]
    }
   ],
   "source": [
    "is_aldult(23)"
   ]
  },
  {
   "cell_type": "code",
   "execution_count": 65,
   "id": "9f6445e9",
   "metadata": {},
   "outputs": [],
   "source": [
    "new_list = [20,23,45,16,4,-20,100,67,1]"
   ]
  },
  {
   "cell_type": "code",
   "execution_count": 66,
   "id": "f05a0fb4",
   "metadata": {},
   "outputs": [
    {
     "name": "stdout",
     "output_type": "stream",
     "text": [
      "[20, 23, 45, 16, 4, -20, 100, 67, 1]\n"
     ]
    }
   ],
   "source": [
    "print(new_list)"
   ]
  },
  {
   "cell_type": "code",
   "execution_count": 67,
   "id": "45014ff0",
   "metadata": {},
   "outputs": [
    {
     "data": {
      "text/plain": [
       "[-20, 1, 4, 16, 20, 23, 45, 67, 100]"
      ]
     },
     "execution_count": 67,
     "metadata": {},
     "output_type": "execute_result"
    }
   ],
   "source": [
    "sorted(new_list)"
   ]
  },
  {
   "cell_type": "code",
   "execution_count": 68,
   "id": "f14018d3",
   "metadata": {},
   "outputs": [],
   "source": [
    "## Object oriented programming\n",
    "\n",
    "## A more common programming paradigm and very modern too"
   ]
  },
  {
   "cell_type": "code",
   "execution_count": 69,
   "id": "3b90c492",
   "metadata": {},
   "outputs": [],
   "source": [
    "## List and variables"
   ]
  },
  {
   "cell_type": "code",
   "execution_count": 70,
   "id": "df2b36b7",
   "metadata": {},
   "outputs": [],
   "source": [
    "age_list = [34,23,25,27,19,32,21]"
   ]
  },
  {
   "cell_type": "code",
   "execution_count": 71,
   "id": "67f0179d",
   "metadata": {},
   "outputs": [
    {
     "data": {
      "text/plain": [
       "34"
      ]
     },
     "execution_count": 71,
     "metadata": {},
     "output_type": "execute_result"
    }
   ],
   "source": [
    "max_age = max(age_list)\n",
    "max_age"
   ]
  },
  {
   "cell_type": "code",
   "execution_count": 72,
   "id": "733ef3e3",
   "metadata": {},
   "outputs": [
    {
     "data": {
      "text/plain": [
       "'34'"
      ]
     },
     "execution_count": 72,
     "metadata": {},
     "output_type": "execute_result"
    }
   ],
   "source": [
    "max_age_str = str(max_age)\n",
    "max_age_str"
   ]
  },
  {
   "cell_type": "code",
   "execution_count": 73,
   "id": "05e2a20a",
   "metadata": {},
   "outputs": [
    {
     "name": "stdout",
     "output_type": "stream",
     "text": [
      "<class 'str'>\n"
     ]
    }
   ],
   "source": [
    "print(type(max_age_str))"
   ]
  },
  {
   "cell_type": "code",
   "execution_count": 74,
   "id": "ce139d0c",
   "metadata": {},
   "outputs": [
    {
     "data": {
      "text/plain": [
       "'ninety nine'"
      ]
     },
     "execution_count": 74,
     "metadata": {},
     "output_type": "execute_result"
    }
   ],
   "source": [
    "max_age_str = 'ninety nine'\n",
    "max_age_str"
   ]
  },
  {
   "cell_type": "code",
   "execution_count": 75,
   "id": "9e6d33eb",
   "metadata": {},
   "outputs": [
    {
     "data": {
      "text/plain": [
       "'ninety nine'"
      ]
     },
     "execution_count": 75,
     "metadata": {},
     "output_type": "execute_result"
    }
   ],
   "source": [
    "max_age_str"
   ]
  },
  {
   "cell_type": "code",
   "execution_count": 76,
   "id": "d36a03c2",
   "metadata": {},
   "outputs": [
    {
     "data": {
      "text/plain": [
       "19"
      ]
     },
     "execution_count": 76,
     "metadata": {},
     "output_type": "execute_result"
    }
   ],
   "source": [
    "min_age = min(age_list)\n",
    "min_age"
   ]
  },
  {
   "cell_type": "code",
   "execution_count": 77,
   "id": "08be6c81",
   "metadata": {},
   "outputs": [
    {
     "data": {
      "text/plain": [
       "15"
      ]
     },
     "execution_count": 77,
     "metadata": {},
     "output_type": "execute_result"
    }
   ],
   "source": [
    "age_diff = max_age - min_age\n",
    "age_diff"
   ]
  },
  {
   "cell_type": "code",
   "execution_count": null,
   "id": "00fe213e",
   "metadata": {},
   "outputs": [],
   "source": []
  }
 ],
 "metadata": {
  "kernelspec": {
   "display_name": "Python 3 (ipykernel)",
   "language": "python",
   "name": "python3"
  },
  "language_info": {
   "codemirror_mode": {
    "name": "ipython",
    "version": 3
   },
   "file_extension": ".py",
   "mimetype": "text/x-python",
   "name": "python",
   "nbconvert_exporter": "python",
   "pygments_lexer": "ipython3",
   "version": "3.10.9"
  }
 },
 "nbformat": 4,
 "nbformat_minor": 5
}
